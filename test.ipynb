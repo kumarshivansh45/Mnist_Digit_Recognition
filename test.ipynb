{
 "cells": [
  {
   "cell_type": "code",
   "execution_count": 2,
   "metadata": {},
   "outputs": [],
   "source": [
    "import numpy as np\n",
    "import pathlib\n",
    "\n",
    "\n",
    "def get_mnist():\n",
    "    with np.load(f\"./testing/mnist.npz\") as f:\n",
    "        images, labels = f[\"x_train\"], f[\"y_train\"]\n",
    "    images = images.astype(\"float32\") / 255\n",
    "    images = np.reshape(images, (images.shape[0], images.shape[1] * images.shape[2]))\n",
    "    labels = np.eye(10)[labels]\n",
    "    return images, labels"
   ]
  },
  {
   "cell_type": "code",
   "execution_count": 3,
   "metadata": {},
   "outputs": [
    {
     "name": "stdout",
     "output_type": "stream",
     "text": [
      "Acc: 80.59%\n",
      "Acc: 94.09%\n",
      "Acc: 95.87%\n"
     ]
    }
   ],
   "source": [
    "\n",
    "import numpy as np\n",
    "import matplotlib.pyplot as plt\n",
    "\n",
    "\n",
    "\"\"\"\n",
    "w = weights, b = bias, i = input, h = hidden, o = output, l = label\n",
    "e.g. w_i_h = weights from input layer to hidden layer\n",
    "\"\"\"\n",
    "images, labels = get_mnist()\n",
    "w_1_2 = np.random.uniform(-0.5, 0.5, (100, 784))\n",
    "w_2_3 = np.random.uniform(-0.5,0.5,(50,100))\n",
    "w_3_4 = np.random.uniform(-0.5,0.5,(20,50))\n",
    "w_4_5 = np.random.uniform(-0.5, 0.5, (10, 20))\n",
    "b_1_2 = np.zeros((100, 1))\n",
    "b_2_3 = np.zeros((50, 1))\n",
    "b_3_4 = np.zeros((20,1))\n",
    "b_4_5 = np.zeros((10,1))\n",
    "\n",
    "learn_rate = 0.01\n",
    "nr_correct = 0\n",
    "epochs = 3\n",
    "for epoch in range(epochs):\n",
    "    for img, l in zip(images, labels):\n",
    "        img.shape += (1,)\n",
    "        l.shape += (1,)\n",
    "        # Forward propagation input -> hidden\n",
    "        h_2 = b_1_2 + w_1_2 @ img\n",
    "        h_2 = 1 / (1 + np.exp(-h_2))\n",
    "        h_3 = b_2_3 + w_2_3 @ h_2\n",
    "        h_3 = 1/(1 + np.exp(-h_3))\n",
    "        h_4 = b_3_4 + w_3_4 @ h_3\n",
    "        h_4 = 1/(1+ np.exp(-h_4))\n",
    "        h_5 = b_4_5 + w_4_5 @ h_4\n",
    "        h_5 = 1/(1 + np.exp(-h_5))\n",
    "#         Forward propagation hidden -> output\n",
    "#         o_pre = b_h_o + w_h_o @ h\n",
    "#         o = 1 / (1 + np.exp(-o_pre))\n",
    "\n",
    "        # Cost / Error calculation\n",
    "        e = 1 / len(h_5) * np.sum((h_5 - l) ** 2, axis=0)\n",
    "        nr_correct += int(np.argmax(h_5) == np.argmax(l))\n",
    "\n",
    "        # Backpropagation output -> hidden (cost function derivative)\n",
    "        delta_h_5 = h_5 - l\n",
    "        w_4_5 += -learn_rate * delta_h_5 @ np.transpose(h_4)\n",
    "        b_4_5 += -learn_rate * delta_h_5\n",
    "        # Backpropagation hidden -> input (activation function derivative)\n",
    "        delta_h_4 = np.transpose(w_4_5) @ delta_h_5 * (h_4 * (1 - h_4))\n",
    "        w_3_4 += -learn_rate * delta_h_4 @ np.transpose(h_3)\n",
    "        b_3_4 += -learn_rate * delta_h_4\n",
    "        \n",
    "        delta_h_3 = np.transpose(w_3_4) @ delta_h_4 * (h_3 * (1 - h_3))\n",
    "        w_2_3 += - learn_rate * delta_h_3 @ np.transpose(h_2)\n",
    "        b_2_3 += -learn_rate * delta_h_3\n",
    "        \n",
    "        delta_h_2 = np.transpose(w_2_3) @ delta_h_3 * (h_2 * (1 - h_2))\n",
    "        w_1_2 += -learn_rate * delta_h_2 @ np.transpose(img)\n",
    "        b_1_2 += -learn_rate * delta_h_2\n",
    "\n",
    "    # Show accuracy for this epoch\n",
    "    print(f\"Acc: {round((nr_correct / images.shape[0]) * 100, 2)}%\")\n",
    "    nr_correct = 0\n",
    "\n"
   ]
  },
  {
   "cell_type": "code",
   "execution_count": 7,
   "metadata": {},
   "outputs": [
    {
     "data": {
      "image/png": "[encoded data removed]",
      "text/plain": [
       "<Figure size 432x288 with 1 Axes>"
      ]
     },
     "metadata": {
      "needs_background": "light"
     },
     "output_type": "display_data"
    },
    {
     "name": "stdout",
     "output_type": "stream",
     "text": [
      "success if its a 6 :)\n"
     ]
    },
    {
     "name": "stderr",
     "output_type": "stream",
     "text": [
      "<ipython-input-7-77f47ec25e6a>:23: RuntimeWarning: overflow encountered in exp\n",
      "  h_2 = 1 / (1 + np.exp(-h_2))\n"
     ]
    }
   ],
   "source": [
    "\n",
    "\n",
    "from PIL import Image\n",
    "image22 = Image.open(\"./images/yay.png\")\n",
    "im1 = image22.resize((28,28))\n",
    "im1.save('./images/WOW.png')\n",
    "\n",
    "im2 = Image.open(\"./images/WOW.png\",'r')\n",
    "\n",
    "\n",
    "im3 = im2.convert('L')\n",
    "im3.save('./images/test_gray.png')\n",
    "img = np.array(list(im3.getdata()))\n",
    "def trans(z):\n",
    "    return(-1*(z-255))\n",
    "img = trans(img)\n",
    "img = np.reshape(img,(784,1))\n",
    "\n",
    "plt.imshow(img.reshape(28, 28), cmap=\"Greys\")\n",
    "plt.show()\n",
    "\n",
    "    \n",
    "# Forward propagation input -> hidden\n",
    "h_2 = b_1_2 + w_1_2 @ img\n",
    "h_2 = 1 / (1 + np.exp(-h_2))\n",
    "h_3 = b_2_3 + w_2_3 @ h_2\n",
    "h_3 = 1/(1 + np.exp(-h_3))\n",
    "h_4 = b_3_4 + w_3_4 @ h_3\n",
    "h_4 = 1/(1+ np.exp(-h_4))\n",
    "h_5 = b_4_5 + w_4_5 @ h_4\n",
    "h_5 = 1/(1 + np.exp(-h_5))\n",
    "\n",
    "print(f\"success if its a {h_5.argmax()} :)\")\n",
    "\n",
    "\n",
    "    \n",
    "    \n",
    "    "
   ]
  },
  {
   "cell_type": "code",
   "execution_count": null,
   "metadata": {},
   "outputs": [],
   "source": []
  }
 ],
 "metadata": {
  "kernelspec": {
   "display_name": "Python 3",
   "language": "python",
   "name": "python3"
  },
  "language_info": {
   "codemirror_mode": {
    "name": "ipython",
    "version": 3
   },
   "file_extension": ".py",
   "mimetype": "text/x-python",
   "name": "python",
   "nbconvert_exporter": "python",
   "pygments_lexer": "ipython3",
   "version": "3.8.5"
  }
 },
 "nbformat": 4,
 "nbformat_minor": 4
}
